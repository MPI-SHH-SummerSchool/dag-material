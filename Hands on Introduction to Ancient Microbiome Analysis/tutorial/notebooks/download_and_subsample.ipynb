{
 "cells": [
  {
   "cell_type": "code",
   "execution_count": null,
   "source": [
    "import pandas as pd\n",
    "import subprocess"
   ],
   "outputs": [],
   "metadata": {}
  },
  {
   "cell_type": "markdown",
   "source": [
    "For this tutorial, we will be using samples published by [Wibowo et al. 2021](https://www.nature.com/articles/s41586-021-03532-0)"
   ],
   "metadata": {}
  },
  {
   "cell_type": "code",
   "execution_count": null,
   "source": [
    "metadata = pd.read_csv(\"../data/metadata/PRJNA561510.tsv\", sep=\"\\t\")"
   ],
   "outputs": [],
   "metadata": {}
  },
  {
   "cell_type": "markdown",
   "source": [
    "We select only the Zape samples"
   ],
   "metadata": {}
  },
  {
   "cell_type": "code",
   "execution_count": null,
   "source": [
    "zape = metadata.query(\"scientific_name == 'human gut metagenome' and experiment_alias.str.contains('Zape')\", engine='python')\n",
    "zape"
   ],
   "outputs": [],
   "metadata": {}
  },
  {
   "cell_type": "code",
   "execution_count": null,
   "source": [
    "def download(sample_name, url, outdir):\n",
    "    fwd = url.split(\";\")[0]\n",
    "    rev = url.split(\";\")[1]\n",
    "    dl_fwd = f\"wget -O {outdir}/{sample_name}_1.fastq.gz {fwd}\"\n",
    "    print(dl_fwd)\n",
    "    subprocess.check_output(dl_fwd, shell=True)\n",
    "    dl_rev = f\"wget -O {outdir}/{sample_name}_2.fastq.gz {rev}\"\n",
    "    print(dl_rev)\n",
    "    subprocess.check_output(dl_rev, shell=True)"
   ],
   "outputs": [],
   "metadata": {}
  },
  {
   "cell_type": "code",
   "execution_count": null,
   "source": [
    "for i in zape.index:\n",
    "    download(sample_name = zape.loc[i, 'library_name'],\n",
    "             url = zape.loc[i, 'fastq_ftp'],\n",
    "             outdir = \"../data/raw\")"
   ],
   "outputs": [],
   "metadata": {}
  }
 ],
 "metadata": {
  "kernelspec": {
   "name": "python3",
   "display_name": "Python 3.9.6 64-bit ('summer_school_microbiome': conda)"
  },
  "language_info": {
   "codemirror_mode": {
    "name": "ipython",
    "version": 3
   },
   "file_extension": ".py",
   "mimetype": "text/x-python",
   "name": "python",
   "nbconvert_exporter": "python",
   "pygments_lexer": "ipython3",
   "version": "3.9.6"
  },
  "interpreter": {
   "hash": "2a3ff89e8105ddc1b992a1aaff422ea63e88531210c7eba9221d81a87b24a3f9"
  }
 },
 "nbformat": 4,
 "nbformat_minor": 5
}