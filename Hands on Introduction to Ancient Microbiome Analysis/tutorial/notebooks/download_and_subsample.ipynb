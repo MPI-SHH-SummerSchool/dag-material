{
 "cells": [
  {
   "cell_type": "code",
   "execution_count": 1,
   "id": "5cd34bc6",
   "metadata": {},
   "outputs": [],
   "source": [
    "import pandas as pd\n",
    "import subprocess\n",
    "import glob"
   ]
  },
  {
   "cell_type": "markdown",
   "id": "f72be9d7",
   "metadata": {},
   "source": [
    "For this tutorial, we will be using samples published by [Wibowo et al. 2021](https://www.nature.com/articles/s41586-021-03532-0)"
   ]
  },
  {
   "cell_type": "code",
   "execution_count": 2,
   "id": "30f340bf",
   "metadata": {},
   "outputs": [],
   "source": [
    "metadata = pd.read_csv(\"../data/metadata/PRJNA561510.tsv\", sep=\"\\t\")"
   ]
  },
  {
   "cell_type": "markdown",
   "id": "cc1f9f03",
   "metadata": {},
   "source": [
    "We select only the Zape samples"
   ]
  },
  {
   "cell_type": "code",
   "execution_count": 3,
   "id": "b0ffb864",
   "metadata": {},
   "outputs": [
    {
     "data": {
      "text/html": [
       "<div>\n",
       "<style scoped>\n",
       "    .dataframe tbody tr th:only-of-type {\n",
       "        vertical-align: middle;\n",
       "    }\n",
       "\n",
       "    .dataframe tbody tr th {\n",
       "        vertical-align: top;\n",
       "    }\n",
       "\n",
       "    .dataframe thead th {\n",
       "        text-align: right;\n",
       "    }\n",
       "</style>\n",
       "<table border=\"1\" class=\"dataframe\">\n",
       "  <thead>\n",
       "    <tr style=\"text-align: right;\">\n",
       "      <th></th>\n",
       "      <th>study_accession</th>\n",
       "      <th>sample_accession</th>\n",
       "      <th>experiment_accession</th>\n",
       "      <th>run_accession</th>\n",
       "      <th>tax_id</th>\n",
       "      <th>scientific_name</th>\n",
       "      <th>library_name</th>\n",
       "      <th>experiment_title</th>\n",
       "      <th>experiment_alias</th>\n",
       "      <th>run_alias</th>\n",
       "      <th>fastq_ftp</th>\n",
       "      <th>fastq_aspera</th>\n",
       "      <th>submitted_ftp</th>\n",
       "      <th>sra_ftp</th>\n",
       "      <th>sample_alias</th>\n",
       "      <th>sample_title</th>\n",
       "    </tr>\n",
       "  </thead>\n",
       "  <tbody>\n",
       "    <tr>\n",
       "      <th>2</th>\n",
       "      <td>PRJNA561510</td>\n",
       "      <td>SAMN12619382</td>\n",
       "      <td>SRX9046728</td>\n",
       "      <td>SRR12557704</td>\n",
       "      <td>408170</td>\n",
       "      <td>human gut metagenome</td>\n",
       "      <td>Zape3</td>\n",
       "      <td>Illumina HiSeq 4000 sequencing; WGS of human g...</td>\n",
       "      <td>Zape3</td>\n",
       "      <td>Zape3_1.fq.gz</td>\n",
       "      <td>ftp.sra.ebi.ac.uk/vol1/fastq/SRR125/004/SRR125...</td>\n",
       "      <td>fasp.sra.ebi.ac.uk:/vol1/fastq/SRR125/004/SRR1...</td>\n",
       "      <td>NaN</td>\n",
       "      <td>NaN</td>\n",
       "      <td>Zape3</td>\n",
       "      <td>This sample has been submitted by pda|marshacw...</td>\n",
       "    </tr>\n",
       "    <tr>\n",
       "      <th>3</th>\n",
       "      <td>PRJNA561510</td>\n",
       "      <td>SAMN12619381</td>\n",
       "      <td>SRX9046727</td>\n",
       "      <td>SRR12557705</td>\n",
       "      <td>408170</td>\n",
       "      <td>human gut metagenome</td>\n",
       "      <td>Zape2</td>\n",
       "      <td>Illumina HiSeq 4000 sequencing; WGS of human g...</td>\n",
       "      <td>Zape2</td>\n",
       "      <td>Zape2_1.fq.gz</td>\n",
       "      <td>ftp.sra.ebi.ac.uk/vol1/fastq/SRR125/005/SRR125...</td>\n",
       "      <td>fasp.sra.ebi.ac.uk:/vol1/fastq/SRR125/005/SRR1...</td>\n",
       "      <td>NaN</td>\n",
       "      <td>NaN</td>\n",
       "      <td>Zape2</td>\n",
       "      <td>This sample has been submitted by pda|marshacw...</td>\n",
       "    </tr>\n",
       "    <tr>\n",
       "      <th>4</th>\n",
       "      <td>PRJNA561510</td>\n",
       "      <td>SAMN12619380</td>\n",
       "      <td>SRX9046726</td>\n",
       "      <td>SRR12557706</td>\n",
       "      <td>408170</td>\n",
       "      <td>human gut metagenome</td>\n",
       "      <td>Zape1</td>\n",
       "      <td>Illumina HiSeq 4000 sequencing; WGS of human g...</td>\n",
       "      <td>Zape1</td>\n",
       "      <td>Zape1_1.fq.gz</td>\n",
       "      <td>ftp.sra.ebi.ac.uk/vol1/fastq/SRR125/006/SRR125...</td>\n",
       "      <td>fasp.sra.ebi.ac.uk:/vol1/fastq/SRR125/006/SRR1...</td>\n",
       "      <td>NaN</td>\n",
       "      <td>NaN</td>\n",
       "      <td>Zape1</td>\n",
       "      <td>This sample has been submitted by pda|marshacw...</td>\n",
       "    </tr>\n",
       "  </tbody>\n",
       "</table>\n",
       "</div>"
      ],
      "text/plain": [
       "  study_accession sample_accession experiment_accession run_accession  tax_id  \\\n",
       "2     PRJNA561510     SAMN12619382           SRX9046728   SRR12557704  408170   \n",
       "3     PRJNA561510     SAMN12619381           SRX9046727   SRR12557705  408170   \n",
       "4     PRJNA561510     SAMN12619380           SRX9046726   SRR12557706  408170   \n",
       "\n",
       "        scientific_name library_name  \\\n",
       "2  human gut metagenome        Zape3   \n",
       "3  human gut metagenome        Zape2   \n",
       "4  human gut metagenome        Zape1   \n",
       "\n",
       "                                    experiment_title experiment_alias  \\\n",
       "2  Illumina HiSeq 4000 sequencing; WGS of human g...            Zape3   \n",
       "3  Illumina HiSeq 4000 sequencing; WGS of human g...            Zape2   \n",
       "4  Illumina HiSeq 4000 sequencing; WGS of human g...            Zape1   \n",
       "\n",
       "       run_alias                                          fastq_ftp  \\\n",
       "2  Zape3_1.fq.gz  ftp.sra.ebi.ac.uk/vol1/fastq/SRR125/004/SRR125...   \n",
       "3  Zape2_1.fq.gz  ftp.sra.ebi.ac.uk/vol1/fastq/SRR125/005/SRR125...   \n",
       "4  Zape1_1.fq.gz  ftp.sra.ebi.ac.uk/vol1/fastq/SRR125/006/SRR125...   \n",
       "\n",
       "                                        fastq_aspera  submitted_ftp  sra_ftp  \\\n",
       "2  fasp.sra.ebi.ac.uk:/vol1/fastq/SRR125/004/SRR1...            NaN      NaN   \n",
       "3  fasp.sra.ebi.ac.uk:/vol1/fastq/SRR125/005/SRR1...            NaN      NaN   \n",
       "4  fasp.sra.ebi.ac.uk:/vol1/fastq/SRR125/006/SRR1...            NaN      NaN   \n",
       "\n",
       "  sample_alias                                       sample_title  \n",
       "2        Zape3  This sample has been submitted by pda|marshacw...  \n",
       "3        Zape2  This sample has been submitted by pda|marshacw...  \n",
       "4        Zape1  This sample has been submitted by pda|marshacw...  "
      ]
     },
     "execution_count": 3,
     "metadata": {},
     "output_type": "execute_result"
    }
   ],
   "source": [
    "zape = metadata.query(\"scientific_name == 'human gut metagenome' and experiment_alias.str.contains('Zape')\", engine='python')\n",
    "zape"
   ]
  },
  {
   "cell_type": "code",
   "execution_count": 4,
   "id": "48bcc573-e943-4b85-b335-fef4ec6bb01e",
   "metadata": {},
   "outputs": [
    {
     "data": {
      "text/plain": [
       "['study_accession',\n",
       " 'sample_accession',\n",
       " 'experiment_accession',\n",
       " 'run_accession',\n",
       " 'tax_id',\n",
       " 'scientific_name',\n",
       " 'library_name',\n",
       " 'experiment_title',\n",
       " 'experiment_alias',\n",
       " 'run_alias',\n",
       " 'fastq_ftp',\n",
       " 'fastq_aspera',\n",
       " 'submitted_ftp',\n",
       " 'sra_ftp',\n",
       " 'sample_alias',\n",
       " 'sample_title']"
      ]
     },
     "execution_count": 4,
     "metadata": {},
     "output_type": "execute_result"
    }
   ],
   "source": [
    "list(zape.columns)"
   ]
  },
  {
   "cell_type": "code",
   "execution_count": 11,
   "id": "04d5f57b",
   "metadata": {},
   "outputs": [],
   "source": [
    "def aspera_download(sample_name, url, outdir):\n",
    "    aspera_cmd = \"/usr/local64/opt/aspera/connect/bin/ascp -i /usr/local64/opt/aspera/connect/etc/asperaweb_id_dsa.openssh -Tr -Q -l 100m -P33001 -L- era-fasp@\"\n",
    "    fwd = url.split(\";\")[0]\n",
    "    rev = url.split(\";\")[1]\n",
    "    dl_fwd = f\"{aspera_cmd}{fwd} {outdir}/{sample_name}_1.fastq.gz \"\n",
    "    print(dl_fwd)\n",
    "    subprocess.check_output(dl_fwd, shell=True)\n",
    "    dl_rev = f\"{aspera_cmd}{rev} {outdir}/{sample_name}_2.fastq.gz \"\n",
    "    print(dl_rev)\n",
    "    subprocess.check_output(dl_rev, shell=True)"
   ]
  },
  {
   "cell_type": "code",
   "execution_count": 12,
   "id": "3ce64634",
   "metadata": {
    "tags": []
   },
   "outputs": [
    {
     "name": "stdout",
     "output_type": "stream",
     "text": [
      "/usr/local64/opt/aspera/connect/bin/ascp -i /usr/local64/opt/aspera/connect/etc/asperaweb_id_dsa.openssh -Tr -Q -l 100m -P33001 -L- era-fasp@fasp.sra.ebi.ac.uk:/vol1/fastq/SRR125/005/SRR12557705/SRR12557705_1.fastq.gz ../data/raw/Zape2_1.fastq.gz \n",
      "/usr/local64/opt/aspera/connect/bin/ascp -i /usr/local64/opt/aspera/connect/etc/asperaweb_id_dsa.openssh -Tr -Q -l 100m -P33001 -L- era-fasp@fasp.sra.ebi.ac.uk:/vol1/fastq/SRR125/005/SRR12557705/SRR12557705_2.fastq.gz ../data/raw/Zape2_2.fastq.gz \n",
      "/usr/local64/opt/aspera/connect/bin/ascp -i /usr/local64/opt/aspera/connect/etc/asperaweb_id_dsa.openssh -Tr -Q -l 100m -P33001 -L- era-fasp@fasp.sra.ebi.ac.uk:/vol1/fastq/SRR125/006/SRR12557706/SRR12557706_1.fastq.gz ../data/raw/Zape1_1.fastq.gz \n",
      "/usr/local64/opt/aspera/connect/bin/ascp -i /usr/local64/opt/aspera/connect/etc/asperaweb_id_dsa.openssh -Tr -Q -l 100m -P33001 -L- era-fasp@fasp.sra.ebi.ac.uk:/vol1/fastq/SRR125/006/SRR12557706/SRR12557706_2.fastq.gz ../data/raw/Zape1_2.fastq.gz \n"
     ]
    }
   ],
   "source": [
    "for i in zape.index[1:]:\n",
    "    aspera_download(sample_name = zape.loc[i, 'library_name'],\n",
    "             url = zape.loc[i, 'fastq_aspera'],\n",
    "             outdir = \"../data/raw\")"
   ]
  },
  {
   "cell_type": "markdown",
   "id": "b70c5d6f-4129-4926-b997-97f65e1ea48f",
   "metadata": {},
   "source": [
    "## Subsampling files to make the analysis quicker for this tutorial"
   ]
  },
  {
   "cell_type": "code",
   "execution_count": 50,
   "id": "355f5ca0-03b9-4249-bebd-da550e4c418e",
   "metadata": {},
   "outputs": [],
   "source": [
    "def subsample(filename, outdir, depth=200000):\n",
    "    basename = \".\".join(filename.split(\".\")[:-2]).split(\"/\")[-1]\n",
    "    print(basename)\n",
    "    cmd = f\"seqtk sample -s100 {filename} {depth} > {outdir}/{basename}_subsampled_{depth}.fastq\"\n",
    "    print(cmd)\n",
    "    subprocess.check_output(cmd, shell=True)"
   ]
  },
  {
   "cell_type": "code",
   "execution_count": 51,
   "id": "488a657a-89c4-4fb1-87f6-8c3db8b22e21",
   "metadata": {},
   "outputs": [
    {
     "name": "stdout",
     "output_type": "stream",
     "text": [
      "Zape3_1\n",
      "seqtk sample -s100 ../data/raw/Zape3_1.fastq.gz 200000 > ../data/subsampled/Zape3_1_subsampled_200000.fastq\n",
      "Zape3_2\n",
      "seqtk sample -s100 ../data/raw/Zape3_2.fastq.gz 200000 > ../data/subsampled/Zape3_2_subsampled_200000.fastq\n",
      "Zape2_1\n",
      "seqtk sample -s100 ../data/raw/Zape2_1.fastq.gz 200000 > ../data/subsampled/Zape2_1_subsampled_200000.fastq\n",
      "Zape2_2\n",
      "seqtk sample -s100 ../data/raw/Zape2_2.fastq.gz 200000 > ../data/subsampled/Zape2_2_subsampled_200000.fastq\n",
      "Zape1_1\n",
      "seqtk sample -s100 ../data/raw/Zape1_1.fastq.gz 200000 > ../data/subsampled/Zape1_1_subsampled_200000.fastq\n",
      "Zape1_2\n",
      "seqtk sample -s100 ../data/raw/Zape1_2.fastq.gz 200000 > ../data/subsampled/Zape1_2_subsampled_200000.fastq\n"
     ]
    }
   ],
   "source": [
    "for f in glob.glob(\"../data/raw/*\"):\n",
    "    outdir = \"../data/subsampled\"\n",
    "    subsample(f, outdir)"
   ]
  }
 ],
 "metadata": {
  "interpreter": {
   "hash": "2a3ff89e8105ddc1b992a1aaff422ea63e88531210c7eba9221d81a87b24a3f9"
  },
  "kernelspec": {
   "name": "conda-env-maxime-summer_school_microbiome-py"
  },
  "language_info": {
   "codemirror_mode": {
    "name": "ipython",
    "version": 3
   },
   "file_extension": ".py",
   "mimetype": "text/x-python",
   "name": "python",
   "nbconvert_exporter": "python",
   "pygments_lexer": "ipython3",
   "version": "3.9.6"
  }
 },
 "nbformat": 4,
 "nbformat_minor": 5
}
